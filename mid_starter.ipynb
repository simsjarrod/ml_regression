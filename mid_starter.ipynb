{
 "cells": [
  {
   "cell_type": "markdown",
   "metadata": {},
   "source": [
    "# Midterm code starter\n",
    "In this notebook, we will pull features out of the Kaggle version of the titanic data set.  We separate by sex and do a sample plot.\n",
    "\n",
    "You can modify the plot as you see fit."
   ]
  },
  {
   "cell_type": "markdown",
   "metadata": {},
   "source": [
    "## Pull in the data\n",
    "Read the train.csv data set into `df` and then display the first 10 instances\n",
    "\n",
    "Later code is expecting to find the data frame in the variable df, so make sure that is what you use throughout.\n"
   ]
  },
  {
   "cell_type": "markdown",
   "metadata": {},
   "source": [
    "### Get basic information on the features\n",
    "Use hist() to look at the distribution of the features"
   ]
  },
  {
   "cell_type": "code",
   "execution_count": null,
   "metadata": {},
   "outputs": [],
   "source": [
    "# Question 1A code  [Answer]\n"
   ]
  },
  {
   "cell_type": "markdown",
   "metadata": {},
   "source": [
    "#### Fix missing values for age\n",
    "Replace missing values for age with the average (mean).  Do the operation in place."
   ]
  },
  {
   "cell_type": "code",
   "execution_count": null,
   "metadata": {},
   "outputs": [],
   "source": [
    "# check that cleaning is good (You don't need to add anything here, but you may)\n",
    "df.head(n=10)"
   ]
  },
  {
   "cell_type": "markdown",
   "metadata": {},
   "source": [
    "### Decision Tree classifier"
   ]
  },
  {
   "cell_type": "markdown",
   "metadata": {},
   "source": [
    "I chose the features for you!"
   ]
  },
  {
   "cell_type": "code",
   "execution_count": 4,
   "metadata": {},
   "outputs": [],
   "source": [
    "X = df[['Age', 'Fare']]\n",
    "y = df['Survived']\n"
   ]
  },
  {
   "cell_type": "markdown",
   "metadata": {},
   "source": [
    "Build and train a decision tree classifier\n",
    "Print the confusion matrix and scores for the trained model\n",
    "\n",
    "Use the variable y_predicted to determine the performance of the model.  The graphing code below needs to have it defined in order to work correctly."
   ]
  },
  {
   "cell_type": "code",
   "execution_count": null,
   "metadata": {},
   "outputs": [],
   "source": [
    "# Question 3e, 3f, 3g code  [Answer]"
   ]
  },
  {
   "cell_type": "markdown",
   "metadata": {},
   "source": [
    "### Graph for age vs survival, male/female splits"
   ]
  },
  {
   "cell_type": "code",
   "execution_count": 6,
   "metadata": {},
   "outputs": [
    {
     "data": {
      "image/png": "[encoded data removed]",
      "text/plain": [
       "<Figure size 432x288 with 1 Axes>"
      ]
     },
     "metadata": {
      "needs_background": "light"
     },
     "output_type": "display_data"
    }
   ],
   "source": [
    "import matplotlib.pyplot as plt\n",
    "import numpy as np\n",
    "\n",
    "# Differentiate on sex\n",
    "male = (df[\"Sex\"] == \"male\")\n",
    "female = (df[\"Sex\"] == \"female\")\n",
    "\n",
    "\n",
    "# Get prediction status from the model\n",
    "correct = (y - y_predicted) == 0   # true/false if a match\n",
    "correctM = correct[male]\n",
    "correctF = correct[female]\n",
    "\n",
    "#Pull out the features for plotting\n",
    "\n",
    "# Continuous features, so just use directly\n",
    "ageM = df[male][\"Age\"]\n",
    "ageF = df[female][\"Age\"]\n",
    "\n",
    "fareM =df[male][\"Fare\"]\n",
    "fareF =df[female][\"Fare\"]\n",
    "\n",
    "numberMales = len(ageM)\n",
    "numberFemales = len(ageF)\n",
    "\n",
    "# Discrete categoies, so smear the values out by a random amount\n",
    "smear = 0.45\n",
    "\n",
    "pclassM = df[male][\"Pclass\"]\n",
    "pclassM += np.random.random(numberMales)*smear\n",
    "pclassF = df[female][\"Pclass\"]\n",
    "pclassF += np.random.random(numberFemales)*smear\n",
    "\n",
    "survivedM = df[male][\"Survived\"]\n",
    "survivedM += np.random.random(numberMales)*smear\n",
    "survivedF = df[female][\"Survived\"] \n",
    "survivedF += np.random.random(numberFemales)*smear\n",
    "\n",
    "sibspM = df[male][\"SibSp\"]\n",
    "sibspM += np.random.random(numberMales)*smear\n",
    "sibspF = df[female][\"SibSp\"] \n",
    "sibspF += np.random.random(numberFemales)*smear\n",
    "\n",
    "parchM = df[male][\"Parch\"]\n",
    "parchM += np.random.random(numberMales)*smear\n",
    "parchF = df[female][\"Parch\"] \n",
    "parchF += np.random.random(numberFemales)*smear\n",
    "\n",
    "# Do the plot of age vs survival\n",
    "plt.xlabel(\"Age\")\n",
    "plt.ylabel(\"Survived\")\n",
    "\n",
    "# Scatter plot Male then Female.  (Can reorder if wanted.)\n",
    "plt.scatter(x=ageM, y=survivedM, marker=\"o\", c=\"orange\", s=30) \n",
    "plt.scatter(x=ageF, y=survivedF, marker=\"s\", c=\"green\", s=30) \n",
    "\n",
    "#Just mark the ones that are incorrect with X's\n",
    "#Can comment these two lines out, not critical for the midterm \n",
    "plt.scatter(x=ageM[~correctM], y=survivedM[~correctM], marker=\"x\", c=\"black\") \n",
    "plt.scatter(x=ageF[~correctF], y=survivedF[~correctF], marker=\"x\", c=\"black\") \n",
    "\n",
    "plt.show()\n"
   ]
  },
  {
   "cell_type": "code",
   "execution_count": null,
   "metadata": {},
   "outputs": [],
   "source": []
  }
 ],
 "metadata": {
  "kernelspec": {
   "display_name": "Python 3",
   "language": "python",
   "name": "python3"
  },
  "language_info": {
   "codemirror_mode": {
    "name": "ipython",
    "version": 3
   },
   "file_extension": ".py",
   "mimetype": "text/x-python",
   "name": "python",
   "nbconvert_exporter": "python",
   "pygments_lexer": "ipython3",
   "version": "3.9.0"
  }
 },
 "nbformat": 4,
 "nbformat_minor": 4
}
